{
 "cells": [
  {
   "cell_type": "code",
   "execution_count": null,
   "metadata": {},
   "outputs": [],
   "source": [
    "1.Explain the term machine learning, and how does it work? Explain two machine learning\n",
    "applications in the business world. What are some of the ethical concerns that machine learning\n",
    "applications could raise?"
   ]
  },
  {
   "cell_type": "code",
   "execution_count": null,
   "metadata": {},
   "outputs": [],
   "source": [
    "Working on the development of computer programs that can access data and perform tasks automatically through \n",
    "predictions and detections, Machine Learning enables computer systems to learn and improve from experience\n",
    "continuously.\n",
    "Machine learning powers the customer recommendation engines designed to enhance the customer experience and\n",
    "provide personalized experiences.\n",
    "Market research and customer segmentation helps to identify certain groups of customers and develop\n",
    "marketing strategy for them accordingly.\n",
    "Ethical concerns are that it can lead to loss of huge number of jobs due like in transportation and customer\n",
    "services.It can also be racist and since AI is trained by humans it can lead to AI bots being biased \n",
    "against certain traits or people."
   ]
  },
  {
   "cell_type": "code",
   "execution_count": null,
   "metadata": {},
   "outputs": [],
   "source": [
    "2. Describe the process of human learning:\n",
    "i. Under the supervision of experts\n",
    "\n",
    "ii. With the assistance of experts in an indirect manner\n",
    "\n",
    "iii. Self-education"
   ]
  },
  {
   "cell_type": "code",
   "execution_count": null,
   "metadata": {},
   "outputs": [],
   "source": [
    "Under the supervision of experts means the person supervising tells the correct answer and guides to get \n",
    "correct answer\n",
    "With the assistance of experts in an indirect manner the expert only tells us whether what we have done\n",
    "is correct or no,nothing else.\n",
    "When there is no expert to supervise or to guide whether it is correct or not then it is self education.\n",
    "One learns basedon trial and error method."
   ]
  },
  {
   "cell_type": "code",
   "execution_count": null,
   "metadata": {},
   "outputs": [],
   "source": [
    "3. Provide a few examples of various types of machine learning."
   ]
  },
  {
   "cell_type": "code",
   "execution_count": null,
   "metadata": {},
   "outputs": [],
   "source": [
    "Having a system that takes a photo, finds faces, and guesses who that is in the photo (suggesting a tag) \n",
    "is a supervised process.\n",
    "Recommender Systems: If you’ve ever used YouTube or Netflix, you’ve most likely encountered a video \n",
    "recommendation system. These systems are often times placed in the unsupervised domain.\n",
    "Reinforcement Learning involves finding shortest path between two points in a map."
   ]
  },
  {
   "cell_type": "code",
   "execution_count": null,
   "metadata": {},
   "outputs": [],
   "source": [
    "4. Examine the various forms of machine learning."
   ]
  },
  {
   "cell_type": "code",
   "execution_count": null,
   "metadata": {},
   "outputs": [],
   "source": [
    "Supervised Learning\n",
    "Given data in the form of examples with labels, we can feed a learning algorithm these example-label pairs\n",
    "one by one, allowing the algorithm to predict the label for each example, and giving it feedback as to\n",
    "whether it predicted the right answer or not. Over time, the algorithm will learn to approximate the \n",
    "exact nature of the relationship between examples and their labels.\n",
    "\n",
    "Unsupervised Learning\n",
    "Our algorithm would be fed a lot of data and given the tools to understand the properties of the data.\n",
    "From there, it can learn to group, cluster, and/or organize the data in a way such that a human (or other \n",
    "intelligent algorithm) can come in and make sense of the newly organized data.\n",
    "\n",
    "Reinforcement Learning\n",
    " So long as we provide some sort of signal to the algorithm that associates good behaviors with a positive\n",
    "signal and bad behaviors with a negative one, we can reinforce our algorithm to prefer good behaviors over\n",
    "bad ones. Over time, our learning algorithm learns to make less mistakes than it used to."
   ]
  },
  {
   "cell_type": "code",
   "execution_count": null,
   "metadata": {},
   "outputs": [],
   "source": [
    "5. Can you explain what a well-posed learning problem is? Explain the main characteristics that must\n",
    "be present to identify a learning problem properly."
   ]
  },
  {
   "cell_type": "code",
   "execution_count": null,
   "metadata": {},
   "outputs": [],
   "source": [
    "A (machine learning) problem is well-posed if a solution to it exists, if that solution is unique, and if \n",
    "that solution depends on the data / experience but it is not sensitive to (reasonably small) changes in\n",
    "the data / experience."
   ]
  },
  {
   "cell_type": "code",
   "execution_count": null,
   "metadata": {},
   "outputs": [],
   "source": [
    "Any problem can be segregated as well-posed learning problem if it has three traits – \n",
    "Example To better filter emails as spam or not \n",
    "Task-Classifying emails as spam or not\n",
    "Performance Measure-Fraction of emails correctly specified as spam or not\n",
    "Experience-Observing you label emails as spam or not spam "
   ]
  },
  {
   "cell_type": "code",
   "execution_count": null,
   "metadata": {},
   "outputs": [],
   "source": [
    "6. Is machine learning capable of solving all problems? Give a detailed explanation of your answer."
   ]
  },
  {
   "cell_type": "code",
   "execution_count": null,
   "metadata": {},
   "outputs": [],
   "source": [
    "Whether a ML is capable of solving a problem depends on whether enough data is available which represents\n",
    "the output.However there are sections like nursing,raising outdoor animals,jobs which require empathy\n",
    "or human emotions then those problems cannot be solved by ML.If the solution of problem depends usage\n",
    "of human emotions then such problems cannot be solved by using ML."
   ]
  },
  {
   "cell_type": "code",
   "execution_count": null,
   "metadata": {},
   "outputs": [],
   "source": [
    "7. What are the various methods and technologies for solving machine learning problems? Any two\n",
    "of them should be defined in detail."
   ]
  },
  {
   "cell_type": "code",
   "execution_count": null,
   "metadata": {},
   "outputs": [],
   "source": [
    "Regression\n",
    "Regression  help to predict or explain a particular numerical value based on a set of prior data, for \n",
    "example predicting the price of a property based on previous pricing data for similar properties.\n",
    "The simplest method is linear regression where we use the mathematical equation of the line (y = m * x + b)\n",
    "to model a data set. We train a linear regression model with many data pairs (x, y) by calculating the \n",
    "position and slope of a line that minimizes the total distance between all of the data points and the \n",
    "line. In other words, we calculate the slope (m) and the y-intercept (b) for a line that best approximates\n",
    "the observations in the data.\n",
    "Classification\n",
    "Another class of supervised ML, classification methods predict or explain a class value. For example, they\n",
    "can help predict whether or not an online customer will buy a product. The output can be yes or no: buyer \n",
    "or not buyer. But classification methods aren’t limited to two classes. For example, a classification\n",
    "method could help to assess whether a given image contains a car or a truck. In this case, the output\n",
    "will be 3 different values: 1) the image contains a car, 2) the image contains a truck, or 3) the image \n",
    "contains neither a car nor a truck.\n",
    "Other methods are \n",
    "Clustering,Ensemble methods, Dimensionality Reduction,Neural nets and Deep Learning,Transfer Learning"
   ]
  },
  {
   "cell_type": "code",
   "execution_count": null,
   "metadata": {},
   "outputs": [],
   "source": [
    "8. Can you explain the various forms of supervised learning? Explain each one with an example\n",
    "application."
   ]
  },
  {
   "cell_type": "code",
   "execution_count": null,
   "metadata": {},
   "outputs": [],
   "source": [
    "Linear Regression – This algorithm assumes that there is a linear relationship between the 2 variables,\n",
    "Input (X) and Output (Y), of the data it has learnt from.Like predicting house price,inputs would be like\n",
    "area location and output would be price hence price can be predicted using regression.\n",
    "Logistic Regression – The algorithm predicts the probability of the new data and so it’s output lies \n",
    "between the range of 0 and 1 example credit card fraud detection problem.In this depending on inputs like\n",
    "user activity location and transactions we can determine if there is fraudulent activity or not.\n",
    "Decision Trees-classify based on the feature values. They use the method of Information Gain and find out\n",
    "which feature of the dataset gives the best of information, make that as the root node and so on till they\n",
    "are able to classify each instance of the dataset.\n",
    "Naive Bayes Classifier – Naive Bayes algorithms assume that the features of the dataset are all independent\n",
    "of each other. They work great on large datasets.\n",
    "Support Vector Machines (SVM) – SVM algorithms are based on the statistical learning theory of Vap Nik. \n",
    "They use Kernal functions which are a central concept for most of the learning tasks. These algorithms \n",
    "create a hyper-plane that is used to classify the two classes from each other.We use SVM for identifying \n",
    "the classification of genes, patients on the basis of genes and other biological problems."
   ]
  },
  {
   "cell_type": "code",
   "execution_count": null,
   "metadata": {},
   "outputs": [],
   "source": [
    "9. What is the difference between supervised and unsupervised learning? With a sample application\n",
    "in each region, explain the differences."
   ]
  },
  {
   "cell_type": "code",
   "execution_count": null,
   "metadata": {},
   "outputs": [],
   "source": [
    "Labelling the fruit depending upon its type while knowing the fruits name is supervised learning\n",
    "whereas unsupervised learning is done when we dont know the labels of the fruits but they are grouped \n",
    "depending on certain features.Hence supervised is complex but unsupervised is simpler.HEnce supervised \n",
    "results are more accurate."
   ]
  },
  {
   "cell_type": "code",
   "execution_count": null,
   "metadata": {},
   "outputs": [],
   "source": [
    "10. Describe the machine learning process in depth.\n",
    "\n",
    "a. Make brief notes on any two of the following:\n",
    "\n",
    "i.MATLAB is one of the most widely used programming languages.\n",
    "\n",
    "ii. Deep learning applications in healthcare\n",
    "\n",
    "iii. Study of the market basket\n",
    "\n",
    "iv. Linear regression (simple)"
   ]
  },
  {
   "cell_type": "code",
   "execution_count": null,
   "metadata": {},
   "outputs": [],
   "source": [
    "Deep learning applications in healthcare have already been seen in medical imaging solutions, chatbots\n",
    "that can identify patterns in patient symptoms, deep learning algorithms that can identify specific types\n",
    "of cancer, and imaging solutions that use deep learning to identify rare diseases or specific types of \n",
    "pathology. Deep learning has been playing a fundamental role in providing medical professionals with \n",
    "insights that allow them to identify issues early on, thereby delivering far more personalized and \n",
    "relevant patient care. \n",
    "Linear Regression\n",
    "Regression  help to predict or explain a particular numerical value based on a set of prior data, for \n",
    "example predicting the price of a property based on previous pricing data for similar properties.\n",
    "The simplest method is linear regression where we use the mathematical equation of the line (y = m * x + b)\n",
    "to model a data set. We train a linear regression model with many data pairs (x, y) by calculating the \n",
    "position and slope of a line that minimizes the total distance between all of the data points and the \n",
    "line. In other words, we calculate the slope (m) and the y-intercept (b) for a line that best approximates\n",
    "the observations in the data."
   ]
  },
  {
   "cell_type": "code",
   "execution_count": null,
   "metadata": {},
   "outputs": [],
   "source": [
    "11. Make a comparison between:-\n",
    "\n",
    "1. Generalization and abstraction\n",
    "\n",
    "2. Learning that is guided and unsupervised\n",
    "\n",
    "3. Regression and classification"
   ]
  },
  {
   "cell_type": "code",
   "execution_count": null,
   "metadata": {},
   "outputs": [],
   "source": [
    "While abstraction reduces complexity by hiding irrelevant detail, generalization reduces complexity by \n",
    "replacing multiple entities which perform similar functions with a single construct.\n",
    "\n",
    "Supervised learning algorithms are trained using labeled data.Supervised learning model takes direct \n",
    "feedback to check if it is predicting correct output or not.\n",
    "\n",
    "Unsupervised learning algorithms are trained using unlabeled data.Unsupervised learning model does \n",
    "not take any feedback.\n",
    "\n",
    "That classification is the problem of predicting a discrete class label output.\n",
    "Example classifying cats and dogs.\n",
    "That regression is the problem of predicting a continuous quantity output.\n",
    "Example predicting house price."
   ]
  },
  {
   "cell_type": "code",
   "execution_count": null,
   "metadata": {},
   "outputs": [],
   "source": []
  }
 ],
 "metadata": {
  "kernelspec": {
   "display_name": "Python 3",
   "language": "python",
   "name": "python3"
  },
  "language_info": {
   "codemirror_mode": {
    "name": "ipython",
    "version": 3
   },
   "file_extension": ".py",
   "mimetype": "text/x-python",
   "name": "python",
   "nbconvert_exporter": "python",
   "pygments_lexer": "ipython3",
   "version": "3.8.3"
  }
 },
 "nbformat": 4,
 "nbformat_minor": 4
}
